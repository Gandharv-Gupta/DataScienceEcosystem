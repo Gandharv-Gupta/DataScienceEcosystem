{
 "cells": [
  {
   "cell_type": "markdown",
   "id": "5dbd30ac-fcaa-490d-93d0-3df3b10be6c2",
   "metadata": {},
   "source": [
    "# Data Science Tools and Ecosystem"
   ]
  },
  {
   "cell_type": "markdown",
   "id": "3e64eab2-9abf-42ac-b952-57bdcd7ffb43",
   "metadata": {},
   "source": [
    "## In this notebook, Data Science Tools and Ecosystem are summarized"
   ]
  },
  {
   "cell_type": "markdown",
   "id": "cc92db86-6453-49f9-aec0-d55b8df41c0c",
   "metadata": {},
   "source": [
    "### Some of the popular languages Data Scientists use are:\n",
    "1. PYTHON\n",
    "2. R\n",
    "3. SQL\n",
    "4. SCALA\n",
    "5. JULIA"
   ]
  },
  {
   "cell_type": "markdown",
   "id": "75924136-1020-4c3e-81ef-c3fd4de004ce",
   "metadata": {},
   "source": [
    "### Some of the commonly used libraries by Data Scientists include:\n",
    "1. PANDAS\n",
    "2. NUMPY\n",
    "3. MATPLOTLIB\n",
    "4. TENSORFLOW\n",
    "5. SCIKITLEARN\n",
    "6. KERAS"
   ]
  },
  {
   "cell_type": "markdown",
   "id": "a41e15f1-0b25-44d6-85ce-6404fed8ec9d",
   "metadata": {},
   "source": [
    "|Data Science Tools|\n",
    "|------------------|\n",
    "|Visual Studio|\n",
    "|Rstudio|\n",
    "|Jupyter Notebook|\n",
    "|IBM Watson Studio|\n",
    "|Anaconda Navigator|"
   ]
  },
  {
   "cell_type": "markdown",
   "id": "20608ad0-7992-415f-b06b-2ae949e22ba6",
   "metadata": {},
   "source": [
    "### Below are few examples of evaluating arithmetic expressions in python:"
   ]
  },
  {
   "cell_type": "code",
   "execution_count": 1,
   "id": "e3683e74-861f-41cf-bf62-7b12a68a407b",
   "metadata": {},
   "outputs": [
    {
     "data": {
      "text/plain": [
       "17"
      ]
     },
     "execution_count": 1,
     "metadata": {},
     "output_type": "execute_result"
    }
   ],
   "source": [
    "#This is a simple arithmetic expression to multiply then add integers\n",
    "(3*4)+5"
   ]
  },
  {
   "cell_type": "code",
   "execution_count": 2,
   "id": "465462db-f4de-4ce2-98ce-b5dd5cf1fa9b",
   "metadata": {},
   "outputs": [
    {
     "data": {
      "text/plain": [
       "3.3333333333333335"
      ]
     },
     "execution_count": 2,
     "metadata": {},
     "output_type": "execute_result"
    }
   ],
   "source": [
    "#This will convert 200 minutes to hours by dividing by 60\n",
    "200/60"
   ]
  },
  {
   "cell_type": "markdown",
   "id": "801a45a2-785d-4773-85a6-f8c72eb5e27e",
   "metadata": {},
   "source": [
    "**Objectives:**\n",
    "* Creating a jupyter notebook\n",
    "* Changing title of the notebook\n",
    "* Listing popular data science languages\n",
    "* Listing Development tools for Data science\n",
    "* Creating a table in markdown\n",
    "* executing an arithmetic expression in code cell"
   ]
  },
  {
   "cell_type": "markdown",
   "id": "5345683b-5d75-4f33-9b3d-c35e4b40893e",
   "metadata": {},
   "source": [
    "## Author\n",
    "Gandharv Gupta"
   ]
  },
  {
   "cell_type": "code",
   "execution_count": null,
   "id": "93db8f41-29a8-409c-90c9-3850f8c230db",
   "metadata": {},
   "outputs": [],
   "source": []
  }
 ],
 "metadata": {
  "kernelspec": {
   "display_name": "Python 3 (ipykernel)",
   "language": "python",
   "name": "python3"
  },
  "language_info": {
   "codemirror_mode": {
    "name": "ipython",
    "version": 3
   },
   "file_extension": ".py",
   "mimetype": "text/x-python",
   "name": "python",
   "nbconvert_exporter": "python",
   "pygments_lexer": "ipython3",
   "version": "3.12.4"
  }
 },
 "nbformat": 4,
 "nbformat_minor": 5
}
